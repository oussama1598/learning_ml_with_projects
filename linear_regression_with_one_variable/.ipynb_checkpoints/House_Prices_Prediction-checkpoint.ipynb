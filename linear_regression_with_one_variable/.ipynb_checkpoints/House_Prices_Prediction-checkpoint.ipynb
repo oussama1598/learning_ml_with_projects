{
 "cells": [
  {
   "cell_type": "code",
   "execution_count": 10,
   "metadata": {},
   "outputs": [],
   "source": [
    "import matplotlib.pyplot as plt "
   ]
  },
  {
   "cell_type": "code",
   "execution_count": 11,
   "metadata": {},
   "outputs": [],
   "source": [
    "def parse_csv(file_path, delimiter):\n",
    "    csv_file = open(file_path, 'r').read().split('\\n')\n",
    "    csv_header = csv_file[0].split(delimiter)\n",
    "    csv_data = csv_file[1:]\n",
    "    \n",
    "    csv_data = [parse_csv_data_line(row, csv_header, delimiter) for row in csv_data]\n",
    "    \n",
    "    return csv_data"
   ]
  },
  {
   "cell_type": "code",
   "execution_count": 12,
   "metadata": {},
   "outputs": [],
   "source": [
    "def parse_csv_data_line(data_row, csv_header, delimiter):\n",
    "    columns = data_row.split(delimiter)\n",
    "    parsed_row = {}\n",
    "    \n",
    "    for column_index in range(len(csv_header)):\n",
    "        if column_index < len(columns): \n",
    "            parsed_row[csv_header[column_index]] = columns[column_index]\n",
    "        \n",
    "    return parsed_row"
   ]
  },
  {
   "cell_type": "code",
   "execution_count": 14,
   "metadata": {},
   "outputs": [
    {
     "name": "stdout",
     "output_type": "stream",
     "text": [
      "{'id': '\"7129300520\"', 'date': '\"20141013T000000\"', 'price': '221900', 'bedrooms': '3', 'bathrooms': '1', 'sqft_living': '1180', 'sqft_lot': '5650', 'floors': '\"1\"', 'waterfront': '0', 'view': '0', 'condition': '3', 'grade': '7', 'sqft_above': '1180', 'sqft_basement': '0', 'yr_built': '1955', 'yr_renovated': '0', 'zipcode': '\"98178\"', 'lat': '47.5112', 'long': '-122.257', 'sqft_living15': '1340', 'sqft_lot15': '5650'}\n"
     ]
    }
   ],
   "source": [
    "parsed_csv = parse_csv('./kc_house_data.csv', ',')\n",
    "\n",
    "print(parsed_csv[0])"
   ]
  },
  {
   "cell_type": "code",
   "execution_count": 23,
   "metadata": {},
   "outputs": [],
   "source": [
    "training_data_number = 200\n",
    "sizes = []\n",
    "prices = []\n",
    "\n",
    "for data_index in range(training_data_number):\n",
    "    try:\n",
    "        size = int(parsed_csv[data_index]['sqft_living'])\n",
    "        price = int(parsed_csv[data_index]['price'])\n",
    "        \n",
    "        sizes.append(size)\n",
    "        prices.append(price)\n",
    "    except:\n",
    "        None"
   ]
  },
  {
   "cell_type": "code",
   "execution_count": 26,
   "metadata": {},
   "outputs": [
    {
     "data": {
      "text/plain": [
       "[<matplotlib.lines.Line2D at 0x7fb16c459bd0>]"
      ]
     },
     "execution_count": 26,
     "metadata": {},
     "output_type": "execute_result"
    },
    {
     "data": {
      "image/png": "[encoded data removed]",
      "text/plain": [
       "<Figure size 432x288 with 1 Axes>"
      ]
     },
     "metadata": {
      "needs_background": "light"
     },
     "output_type": "display_data"
    }
   ],
   "source": [
    "plt.plot(sizes, prices, 'o', color='black')"
   ]
  },
  {
   "cell_type": "code",
   "execution_count": 61,
   "metadata": {},
   "outputs": [],
   "source": [
    "theta0, theta1 = 1, 1\n",
    "\n",
    "def h(x):\n",
    "    return theta0 + theta1 * x"
   ]
  },
  {
   "cell_type": "code",
   "execution_count": 62,
   "metadata": {},
   "outputs": [
    {
     "data": {
      "text/plain": [
       "[<matplotlib.lines.Line2D at 0x7fb16c188ad0>]"
      ]
     },
     "execution_count": 62,
     "metadata": {},
     "output_type": "execute_result"
    },
    {
     "data": {
      "image/png": "[encoded data removed]",
      "text/plain": [
       "<Figure size 432x288 with 1 Axes>"
      ]
     },
     "metadata": {
      "needs_background": "light"
     },
     "output_type": "display_data"
    }
   ],
   "source": [
    "plt.plot(sizes, prices, 'o', color='black')\n",
    "plt.plot(sizes, [linear_function(x) for x in sizes])"
   ]
  },
  {
   "cell_type": "code",
   "execution_count": 63,
   "metadata": {},
   "outputs": [],
   "source": [
    "def calculate_cost(fn, inputs, outputs):\n",
    "    inputs_length = len(inputs)\n",
    "    \n",
    "    squared_output_diffrence = [(fn(inputs[i]) - outputs[i]) ** 2 for i in range(inputs_length)]\n",
    "    \n",
    "    return (1 / (2 * inputs_length)) * sum(squared_output_diffrence)"
   ]
  },
  {
   "cell_type": "code",
   "execution_count": 64,
   "metadata": {},
   "outputs": [],
   "source": [
    "initial_cost = calculate_cost(h, sizes, prices)"
   ]
  },
  {
   "cell_type": "code",
   "execution_count": 66,
   "metadata": {},
   "outputs": [
    {
     "ename": "SyntaxError",
     "evalue": "invalid syntax (<ipython-input-66-412abd0a0d43>, line 10)",
     "output_type": "error",
     "traceback": [
      "\u001b[0;36m  File \u001b[0;32m\"<ipython-input-66-412abd0a0d43>\"\u001b[0;36m, line \u001b[0;32m10\u001b[0m\n\u001b[0;31m    new_theta0 = theta0 -\u001b[0m\n\u001b[0m                          ^\u001b[0m\n\u001b[0;31mSyntaxError\u001b[0m\u001b[0;31m:\u001b[0m invalid syntax\n"
     ]
    }
   ],
   "source": [
    "def derivative_of_theta_0(inputs, outputs):\n",
    "    inputs_length = len(inputs)\n",
    "    \n",
    "    output_diffrence = [(fn(inputs[i]) - outputs[i]) for i in range(inputs_length)]\n",
    "    \n",
    "    return (1 / inputs_length) * sum(output_diffrence)\n",
    "\n",
    "def derivative_of_theta_1(inputs, outputs):\n",
    "    inputs_length = len(inputs)\n",
    "    \n",
    "    output_diffrence = [(fn(inputs[i]) - outputs[i]) * inputs[i] for i in range(inputs_length)]\n",
    "    \n",
    "    return (1 / inputs_length) * sum(output_diffrence)\n",
    "\n",
    "def gradient_descent(inputs, outpus, learning_rate, epochs):\n",
    "    global theta0\n",
    "    global theta1\n",
    "    \n",
    "    costs = []\n",
    "    \n",
    "    for i in range(epochs):\n",
    "        new_theta0 = theta0 - derivative_of_theta_0(inputs, outputs) * learning_rate\n",
    "        new_theta1 = theta1 - derivative_of_theta_1(inputs, outputs) * learning_rate\n",
    "        \n",
    "        theta0, theta1 = new_theta0, new_theta1\n",
    "\n",
    "        costs.append(calculate_cost(h, inputs, outputs))\n",
    "        \n",
    "    return costs"
   ]
  },
  {
   "cell_type": "code",
   "execution_count": null,
   "metadata": {},
   "outputs": [],
   "source": []
  }
 ],
 "metadata": {
  "kernelspec": {
   "display_name": "Python 3",
   "language": "python",
   "name": "python3"
  },
  "language_info": {
   "codemirror_mode": {
    "name": "ipython",
    "version": 3
   },
   "file_extension": ".py",
   "mimetype": "text/x-python",
   "name": "python",
   "nbconvert_exporter": "python",
   "pygments_lexer": "ipython3",
   "version": "3.7.5"
  }
 },
 "nbformat": 4,
 "nbformat_minor": 2
}
