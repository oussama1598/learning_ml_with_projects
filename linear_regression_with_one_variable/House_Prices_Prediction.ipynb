{
 "cells": [
  {
   "cell_type": "code",
   "execution_count": 1,
   "metadata": {},
   "outputs": [],
   "source": [
    "import matplotlib.pyplot as plt "
   ]
  },
  {
   "cell_type": "code",
   "execution_count": 2,
   "metadata": {},
   "outputs": [],
   "source": [
    "def parse_csv(file_path, delimiter):\n",
    "    csv_file = open(file_path, 'r').read().split('\\n')\n",
    "    csv_header = csv_file[0].split(delimiter)\n",
    "    csv_data = csv_file[1:]\n",
    "    \n",
    "    csv_data = [parse_csv_data_line(row, csv_header, delimiter) for row in csv_data]\n",
    "    \n",
    "    return csv_data"
   ]
  },
  {
   "cell_type": "code",
   "execution_count": 3,
   "metadata": {},
   "outputs": [],
   "source": [
    "def parse_csv_data_line(data_row, csv_header, delimiter):\n",
    "    columns = data_row.split(delimiter)\n",
    "    parsed_row = {}\n",
    "    \n",
    "    for column_index in range(len(csv_header)):\n",
    "        if column_index < len(columns): \n",
    "            parsed_row[csv_header[column_index]] = columns[column_index]\n",
    "        \n",
    "    return parsed_row"
   ]
  },
  {
   "cell_type": "code",
   "execution_count": 4,
   "metadata": {},
   "outputs": [
    {
     "name": "stdout",
     "output_type": "stream",
     "text": [
      "{'id': '\"7129300520\"', 'date': '\"20141013T000000\"', 'price': '221900', 'bedrooms': '3', 'bathrooms': '1', 'sqft_living': '1180', 'sqft_lot': '5650', 'floors': '\"1\"', 'waterfront': '0', 'view': '0', 'condition': '3', 'grade': '7', 'sqft_above': '1180', 'sqft_basement': '0', 'yr_built': '1955', 'yr_renovated': '0', 'zipcode': '\"98178\"', 'lat': '47.5112', 'long': '-122.257', 'sqft_living15': '1340', 'sqft_lot15': '5650'}\n"
     ]
    }
   ],
   "source": [
    "parsed_csv = parse_csv('./kc_house_data.csv', ',')\n",
    "\n",
    "print(parsed_csv[0])"
   ]
  },
  {
   "cell_type": "code",
   "execution_count": 5,
   "metadata": {},
   "outputs": [],
   "source": [
    "training_data_number = 200\n",
    "sizes = []\n",
    "prices = []\n",
    "\n",
    "for data_index in range(training_data_number):\n",
    "    try:\n",
    "        size = int(parsed_csv[data_index]['sqft_living']) / 1000\n",
    "        price = int(parsed_csv[data_index]['price']) / 1000\n",
    "        \n",
    "        sizes.append(size)\n",
    "        prices.append(price)\n",
    "    except:\n",
    "        None"
   ]
  },
  {
   "cell_type": "code",
   "execution_count": 6,
   "metadata": {},
   "outputs": [
    {
     "data": {
      "text/plain": [
       "[<matplotlib.lines.Line2D at 0x7ff3a57fddd0>]"
      ]
     },
     "execution_count": 6,
     "metadata": {},
     "output_type": "execute_result"
    },
    {
     "data": {
      "image/png": "[encoded data removed]",
      "text/plain": [
       "<Figure size 432x288 with 1 Axes>"
      ]
     },
     "metadata": {
      "needs_background": "light"
     },
     "output_type": "display_data"
    }
   ],
   "source": [
    "plt.plot(sizes, prices, 'o', color='black')"
   ]
  },
  {
   "cell_type": "code",
   "execution_count": 7,
   "metadata": {},
   "outputs": [],
   "source": [
    "theta0, theta1 = 100, 10\n",
    "\n",
    "def h(x):\n",
    "    return theta0 + theta1 * x"
   ]
  },
  {
   "cell_type": "code",
   "execution_count": 8,
   "metadata": {},
   "outputs": [
    {
     "data": {
      "text/plain": [
       "[<matplotlib.lines.Line2D at 0x7ff3a304aed0>]"
      ]
     },
     "execution_count": 8,
     "metadata": {},
     "output_type": "execute_result"
    },
    {
     "data": {
      "image/png": "[encoded data removed]",
      "text/plain": [
       "<Figure size 432x288 with 1 Axes>"
      ]
     },
     "metadata": {
      "needs_background": "light"
     },
     "output_type": "display_data"
    }
   ],
   "source": [
    "plt.plot(sizes, prices, 'o', color='black')\n",
    "plt.plot(sizes, [h(x) for x in sizes])"
   ]
  },
  {
   "cell_type": "code",
   "execution_count": 9,
   "metadata": {},
   "outputs": [],
   "source": [
    "def calculate_cost(fn, inputs, outputs):\n",
    "    inputs_length = len(inputs)\n",
    "    \n",
    "    squared_output_diffrence = [(fn(inputs[i]) - outputs[i]) ** 2 for i in range(inputs_length)]\n",
    "    \n",
    "    return (1 / (2 * inputs_length)) * sum(squared_output_diffrence)"
   ]
  },
  {
   "cell_type": "code",
   "execution_count": 10,
   "metadata": {},
   "outputs": [
    {
     "name": "stdout",
     "output_type": "stream",
     "text": [
      "79701.19139341846\n",
      "111.8\n"
     ]
    }
   ],
   "source": [
    "initial_cost = calculate_cost(h, sizes, prices)\n",
    "\n",
    "print(initial_cost)\n",
    "print(h(sizes[0]))"
   ]
  },
  {
   "cell_type": "code",
   "execution_count": 11,
   "metadata": {},
   "outputs": [],
   "source": [
    "def derivative_of_theta_0(fn, inputs, outputs):\n",
    "    inputs_length = len(inputs)\n",
    "    \n",
    "    output_diffrence = [(fn(inputs[i]) - outputs[i]) for i in range(inputs_length)]\n",
    "    \n",
    "    return (1 / inputs_length) * sum(output_diffrence)\n",
    "\n",
    "def derivative_of_theta_1(fn, inputs, outputs):\n",
    "    inputs_length = len(inputs)\n",
    "    \n",
    "    output_diffrence = [(fn(inputs[i]) - outputs[i]) * inputs[i] for i in range(inputs_length)]\n",
    "    \n",
    "    return (1 / inputs_length) * sum(output_diffrence)\n",
    "\n",
    "def gradient_descent(inputs, outputs, learning_rate, epochs):\n",
    "    global theta0\n",
    "    global theta1\n",
    "    \n",
    "    costs = []\n",
    "    \n",
    "    for i in range(epochs):\n",
    "        new_theta0 = theta0 - derivative_of_theta_0(h, inputs, outputs) * learning_rate\n",
    "        new_theta1 = theta1 - derivative_of_theta_1(h, inputs, outputs) * learning_rate\n",
    "        \n",
    "        theta0, theta1 = new_theta0, new_theta1\n",
    "\n",
    "        costs.append(calculate_cost(h, inputs, outputs))\n",
    "        \n",
    "    return costs"
   ]
  },
  {
   "cell_type": "code",
   "execution_count": 12,
   "metadata": {},
   "outputs": [],
   "source": [
    "costs = gradient_descent(sizes, prices, 0.1, 400)"
   ]
  },
  {
   "cell_type": "code",
   "execution_count": 16,
   "metadata": {},
   "outputs": [
    {
     "data": {
      "text/plain": [
       "[<matplotlib.lines.Line2D at 0x7ff3cefd3210>]"
      ]
     },
     "execution_count": 16,
     "metadata": {},
     "output_type": "execute_result"
    },
    {
     "data": {
      "image/png": "[encoded data removed]",
      "text/plain": [
       "<Figure size 432x288 with 1 Axes>"
      ]
     },
     "metadata": {
      "needs_background": "light"
     },
     "output_type": "display_data"
    }
   ],
   "source": [
    "plt.plot(list(range(400)), costs)"
   ]
  },
  {
   "cell_type": "code",
   "execution_count": 17,
   "metadata": {},
   "outputs": [],
   "source": [
    "testing_data_number = 200\n",
    "testing_sizes = []\n",
    "testing_prices = []\n",
    "\n",
    "for data_index in range(training_data_number, training_data_number + testing_data_number):\n",
    "    try:\n",
    "        size = int(parsed_csv[data_index]['sqft_living']) / 1000\n",
    "        price = int(parsed_csv[data_index]['price']) / 1000\n",
    "        \n",
    "        testing_sizes.append(size)\n",
    "        testing_prices.append(price)\n",
    "    except:\n",
    "        None"
   ]
  },
  {
   "cell_type": "code",
   "execution_count": 19,
   "metadata": {},
   "outputs": [],
   "source": [
    "final_cost = calculate_cost(h, testing_sizes, testing_prices)"
   ]
  },
  {
   "cell_type": "code",
   "execution_count": 21,
   "metadata": {},
   "outputs": [
    {
     "name": "stdout",
     "output_type": "stream",
     "text": [
      "initial cost: 79701.19139341846, final cost: 13023.633327946141\n"
     ]
    }
   ],
   "source": [
    "print(f'initial cost: {initial_cost}, final cost: {final_cost}')"
   ]
  },
  {
   "cell_type": "code",
   "execution_count": 22,
   "metadata": {},
   "outputs": [
    {
     "data": {
      "text/plain": [
       "[<matplotlib.lines.Line2D at 0x7ff3a4883c50>]"
      ]
     },
     "execution_count": 22,
     "metadata": {},
     "output_type": "execute_result"
    },
    {
     "data": {
      "image/png": "[encoded data removed]",
      "text/plain": [
       "<Figure size 432x288 with 1 Axes>"
      ]
     },
     "metadata": {
      "needs_background": "light"
     },
     "output_type": "display_data"
    }
   ],
   "source": [
    "plt.plot(sizes, prices, 'o', color='black')\n",
    "plt.plot(sizes, [h(x) for x in sizes])"
   ]
  },
  {
   "cell_type": "code",
   "execution_count": null,
   "metadata": {},
   "outputs": [],
   "source": []
  }
 ],
 "metadata": {
  "kernelspec": {
   "display_name": "Python 3",
   "language": "python",
   "name": "python3"
  },
  "language_info": {
   "codemirror_mode": {
    "name": "ipython",
    "version": 3
   },
   "file_extension": ".py",
   "mimetype": "text/x-python",
   "name": "python",
   "nbconvert_exporter": "python",
   "pygments_lexer": "ipython3",
   "version": "3.7.5"
  }
 },
 "nbformat": 4,
 "nbformat_minor": 2
}
